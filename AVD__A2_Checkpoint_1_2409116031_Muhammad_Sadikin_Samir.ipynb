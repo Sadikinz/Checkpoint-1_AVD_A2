{
  "nbformat": 4,
  "nbformat_minor": 0,
  "metadata": {
    "colab": {
      "provenance": []
    },
    "kernelspec": {
      "name": "python3",
      "display_name": "Python 3"
    },
    "language_info": {
      "name": "python"
    }
  },
  "cells": [
    {
      "cell_type": "markdown",
      "source": [
        "# **BUSINESS UNDERSTANDING**"
      ],
      "metadata": {
        "id": "qI3jD-w-c6Hg"
      }
    },
    {
      "cell_type": "markdown",
      "source": [
        "# **Business Objective**"
      ],
      "metadata": {
        "id": "hd38wZBQdaXP"
      }
    },
    {
      "cell_type": "markdown",
      "source": [
        "\n",
        "Tujuan utama proyek ini adalah untuk memahami faktor yang memengaruhi kesehatan mental seseorang dan membantu dalam pengambilan keputusan bagi perusahaan, organisasi atau pemerintah untuk membuat kebijakan terkait kesehatan mental di tempat kerja maupun masyarakat. Selain itu, proyek ini juga memiliki tujuan untuk memperdiksi resiko kesehatan mental, meningkatkan kebijakan terkait kesehatan mental di perusahaan, dan menganalis hubungan antara profesi seseorang dengan Kesehatan mentalnya.\n"
      ],
      "metadata": {
        "id": "e-bqi9QPdyFl"
      }
    },
    {
      "cell_type": "markdown",
      "source": [
        "# **Assess Situation**"
      ],
      "metadata": {
        "id": "yCRiK1vMfjdw"
      }
    },
    {
      "cell_type": "markdown",
      "source": [
        "Situasi yang bisnis mendasari analisis ini adalah karena lingkungan kerja yang ada dapat memengaruhi kesehatan mental seseorang yang disebabkan oleh tuntutan pekerjaan. oleh karena itu, penting bagi perusahaan untuk memiliki pemahaman dan kebijakan terkait kesehatan mental pekerjanya. agar dapat menjaga kesehatan mental pekerjanya sehingga tidak mempengaruhi dan mengganggu proses proses bisnis yang ada."
      ],
      "metadata": {
        "id": "ugmA6ShwgODT"
      }
    },
    {
      "cell_type": "markdown",
      "source": [
        "# **Data Mining Goals**"
      ],
      "metadata": {
        "id": "ynpd0OlsifrO"
      }
    },
    {
      "cell_type": "markdown",
      "source": [
        "Mengidentifikasi faktor yang berperangaruh terhadap kesehatan mental dengan mengamati pola tren dari data kesehatan mental, serta mencari hubungan yang ada antara setiap atribut seperti, umur, jenis kelamin, pekerjaan, negara asal, tingkat keparahan kondisi kesehatan mental, jam kerja, dan jam tidur. untuk pada akhirnya mendapatkan pemahaman yang lebih mendalam terkait kesehatan mental."
      ],
      "metadata": {
        "id": "7ByVC-XFmWuW"
      }
    },
    {
      "cell_type": "markdown",
      "source": [
        "# **Project Plan**"
      ],
      "metadata": {
        "id": "_YQ19FrDezA6"
      }
    },
    {
      "cell_type": "markdown",
      "source": [
        "\n",
        "1. Identifikasi Masalah\n",
        "    - Memahami kebutuhan bisnis dalam menjaga kesehatan mental individu.\n",
        "2. Pengumpulan dan Persiapan data\n",
        "    - Mengumpulkan data terkait Umur, Gender, Pekerjaan, dan Jam tidur mereka.\n",
        "    - Membersihkan data dari nilai kosong dan outlier agar data tetap akurat dan konsisten.\n",
        "3. Analisis dan Pemodelan\n",
        "    - Menggunakan teknik analisis untuk mengidentifikasi pola kesehatan mental.\n",
        "    - Menganalisis faktor yang mempengaruhi kesehatan mental\n",
        "4. Interpretasi hasil dan Rekomendasi\n",
        "    - Memberikan saran terkait pentingnya kesehatan mental\n",
        "    - Memberi pemahaman terkait pentingnya kesehatan mental\n",
        "    - Mengolah hasil analisis menjadi wawasan yang berguna untuk bisnis\n",
        "5. Implementasi dan Evaluasi\n",
        "    - Menerapkan hasil analisis ke dalam strategi bisnis berdasarkan hasil dari data\n",
        "    - Memantau dampak implementasi serta melakukan penyesuaian\n",
        "    - Mengoptimalkan metode analisis dan strategi bisnis dari hasil evaluasi\n",
        "\n",
        "\n"
      ],
      "metadata": {
        "id": "3A1XSNkfe13t"
      }
    },
    {
      "cell_type": "code",
      "source": [],
      "metadata": {
        "id": "PJohkVy6H7GS"
      },
      "execution_count": null,
      "outputs": []
    }
  ]
}